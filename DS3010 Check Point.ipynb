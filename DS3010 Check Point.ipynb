{
 "cells": [
  {
   "cell_type": "code",
   "execution_count": 5,
   "id": "e7a92f1b-588e-4a65-b608-0b6f8db2cd95",
   "metadata": {},
   "outputs": [],
   "source": [
    "import pandas as pd\n",
    "\n",
    "application_df = pd.read_csv('application_record.csv')\n",
    "credit_df = pd.read_csv('credit_record.csv')\n",
    "\n",
    "# Remove rows where STATUS is 'X'\n",
    "credit_df_cleaned = credit_df[credit_df['STATUS'] != 'X']\n",
    "\n",
    "# Drop the 'MONTHS_BALANCE' column\n",
    "credit_df_cleaned = credit_df_cleaned.drop(columns=['MONTHS_BALANCE'])\n",
    "\n",
    "mode_status = credit_df_cleaned.groupby('ID')['STATUS'].agg(lambda x: x.mode()[0]).reset_index()\n",
    "mode_status.rename(columns={'STATUS': 'mode_status'}, inplace=True)\n",
    "\n",
    "# Merge two datasets\n",
    "merged_df = pd.merge(application_df, mode_status, on='ID', how='inner')\n",
    "\n",
    "output_path = 'cleaned_merged_data.csv'\n",
    "merged_df.to_csv(output_path, index=False)\n",
    "\n"
   ]
  },
  {
   "cell_type": "code",
   "execution_count": 7,
   "id": "5031f976-9938-4aa8-85ce-18b97bdc2fbe",
   "metadata": {},
   "outputs": [
    {
     "data": {
      "text/html": [
       "<div>\n",
       "<style scoped>\n",
       "    .dataframe tbody tr th:only-of-type {\n",
       "        vertical-align: middle;\n",
       "    }\n",
       "\n",
       "    .dataframe tbody tr th {\n",
       "        vertical-align: top;\n",
       "    }\n",
       "\n",
       "    .dataframe thead th {\n",
       "        text-align: right;\n",
       "    }\n",
       "</style>\n",
       "<table border=\"1\" class=\"dataframe\">\n",
       "  <thead>\n",
       "    <tr style=\"text-align: right;\">\n",
       "      <th></th>\n",
       "      <th>ID</th>\n",
       "      <th>mode_status</th>\n",
       "    </tr>\n",
       "  </thead>\n",
       "  <tbody>\n",
       "    <tr>\n",
       "      <th>0</th>\n",
       "      <td>5001711</td>\n",
       "      <td>0</td>\n",
       "    </tr>\n",
       "    <tr>\n",
       "      <th>1</th>\n",
       "      <td>5001712</td>\n",
       "      <td>0</td>\n",
       "    </tr>\n",
       "    <tr>\n",
       "      <th>2</th>\n",
       "      <td>5001717</td>\n",
       "      <td>0</td>\n",
       "    </tr>\n",
       "    <tr>\n",
       "      <th>3</th>\n",
       "      <td>5001718</td>\n",
       "      <td>0</td>\n",
       "    </tr>\n",
       "    <tr>\n",
       "      <th>4</th>\n",
       "      <td>5001719</td>\n",
       "      <td>C</td>\n",
       "    </tr>\n",
       "  </tbody>\n",
       "</table>\n",
       "</div>"
      ],
      "text/plain": [
       "        ID mode_status\n",
       "0  5001711           0\n",
       "1  5001712           0\n",
       "2  5001717           0\n",
       "3  5001718           0\n",
       "4  5001719           C"
      ]
     },
     "execution_count": 7,
     "metadata": {},
     "output_type": "execute_result"
    }
   ],
   "source": [
    "mode_status.head()"
   ]
  },
  {
   "cell_type": "code",
   "execution_count": null,
   "id": "6edf13ab-a418-4597-8f55-06d2770ec78d",
   "metadata": {},
   "outputs": [],
   "source": []
  }
 ],
 "metadata": {
  "kernelspec": {
   "display_name": "Python 3 (ipykernel)",
   "language": "python",
   "name": "python3"
  },
  "language_info": {
   "codemirror_mode": {
    "name": "ipython",
    "version": 3
   },
   "file_extension": ".py",
   "mimetype": "text/x-python",
   "name": "python",
   "nbconvert_exporter": "python",
   "pygments_lexer": "ipython3",
   "version": "3.12.4"
  }
 },
 "nbformat": 4,
 "nbformat_minor": 5
}
